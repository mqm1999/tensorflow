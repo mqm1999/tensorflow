{
 "cells": [
  {
   "cell_type": "code",
   "id": "initial_id",
   "metadata": {
    "collapsed": true,
    "ExecuteTime": {
     "end_time": "2025-01-12T03:04:45.951584Z",
     "start_time": "2025-01-12T03:04:45.911661Z"
    }
   },
   "source": [
    "import numpy as np\n",
    "import pandas as pd\n",
    "from scipy.io import arff\n",
    "from sklearn.preprocessing import LabelEncoder, StandardScaler\n",
    "from sklearn.metrics import accuracy_score, f1_score\n",
    "import tensorflow as tf\n",
    "from tensorflow.keras.models import Sequential\n",
    "from tensorflow.keras.layers import Dense\n",
    "import matplotlib.pyplot as plt\n"
   ],
   "outputs": [],
   "execution_count": 236
  },
  {
   "metadata": {
    "ExecuteTime": {
     "end_time": "2025-01-12T03:04:45.981584Z",
     "start_time": "2025-01-12T03:04:45.970585Z"
    }
   },
   "cell_type": "code",
   "source": [
    "# Training parameters\n",
    "learning_rate = 0.0001\n",
    "training_steps = 5000\n",
    "batch_size = 256\n",
    "display_step = 100"
   ],
   "id": "56076df3acd4f5e0",
   "outputs": [],
   "execution_count": 237
  },
  {
   "metadata": {
    "ExecuteTime": {
     "end_time": "2025-01-12T03:04:48.905657Z",
     "start_time": "2025-01-12T03:04:46.170165Z"
    }
   },
   "cell_type": "code",
   "source": [
    "# Load the dataset\n",
    "train_data_path = 'C:\\\\Users\\\\Killian\\\\Desktop\\\\Killian\\\\TrainingData\\\\KDDTrain+.arff'\n",
    "test_data_path = 'C:\\\\Users\\\\Killian\\\\Desktop\\\\Killian\\\\TrainingData\\\\KDDTest+.arff'\n",
    "\n",
    "# Load the ARFF files\n",
    "train_data, train_meta = arff.loadarff(train_data_path)\n",
    "test_data, test_meta = arff.loadarff(test_data_path)\n",
    "\n",
    "# Convert to pandas DataFrames\n",
    "train_df = pd.DataFrame(train_data)\n",
    "test_df = pd.DataFrame(test_data)"
   ],
   "id": "49dec77f193668c5",
   "outputs": [],
   "execution_count": 238
  },
  {
   "metadata": {
    "ExecuteTime": {
     "end_time": "2025-01-12T03:04:49.264686Z",
     "start_time": "2025-01-12T03:04:49.002661Z"
    }
   },
   "cell_type": "code",
   "source": [
    "# Encode categorical features\n",
    "## dictionary to store labelencoder objs for each categorical columns\n",
    "label_encoders = {}\n",
    "## iterates over each column in train_df that has datatype = object\n",
    "for column in train_df.select_dtypes(include=['object']).columns:\n",
    "    le = LabelEncoder()\n",
    "    ## fit the labeleconder and return encoded labels\n",
    "    train_df[column] = le.fit_transform(train_df[column])\n",
    "    ## apply the same label to the corresponding column in test dataset\n",
    "    test_df[column] = le.transform(test_df[column])\n",
    "    ## store into dictionary\n",
    "    label_encoders[column] = le\n",
    "\n",
    "# Separate features and labels\n",
    "## x_train: input variables, x_test: each row is an instance, each column is an attribute\n",
    "## y_train: label/target for the corresponding instance in x_train, y_test: correspond to the label for the corresponding instance in x_test\n",
    "## drop 'class' column from train dataframe (axis = 1: drop column, axis = 0: drop row), .values => transform dataframe to numpy array containing the feature values\n",
    "X_train = train_df.drop('class', axis=1).values\n",
    "## access the 'class' column and convert to numpy array containing the label values\n",
    "y_train = train_df['class'].values\n",
    "X_test = test_df.drop('class', axis=1).values\n",
    "y_test = test_df['class'].values\n",
    "\n",
    "# Standardize the features\n",
    "\"\"\"\n",
    "## why standardize:\n",
    "have mean = 0 and standard deviation = 1 => algorithm more consistent towards the min of the loss function\n",
    "ensures all features contribute equally\n",
    "easier to compare importance of different features\n",
    "\"\"\"\n",
    "\n",
    "scaler = StandardScaler()\n",
    "X_train = scaler.fit_transform(X_train)\n",
    "X_test = scaler.transform(X_test)\n",
    "\n",
    "# Convert labels to integers\n",
    "le = LabelEncoder()\n",
    "y_train = le.fit_transform(y_train)\n",
    "y_test = le.transform(y_test)"
   ],
   "id": "4e61961b24f79f62",
   "outputs": [],
   "execution_count": 239
  },
  {
   "metadata": {
    "ExecuteTime": {
     "end_time": "2025-01-12T03:05:29.666468Z",
     "start_time": "2025-01-12T03:04:49.349805Z"
    }
   },
   "cell_type": "code",
   "source": [
    "# Define the MLP model\n",
    "model = Sequential()\n",
    "## relu: if value <= 0 => 0, if value > 0 => value\n",
    "## input_dim: inform model about number of features it should expect in each input sample\n",
    "model.add(Dense(128, input_dim=X_train.shape[1], activation='relu'))\n",
    "model.add(Dense(128, activation='relu'))\n",
    "model.add(Dense(len(np.unique(y_train)), activation='softmax'))\n",
    "\n",
    "# Compile the model\n",
    "## loss: loss function to use to compile\n",
    "## metrics: the evaluation metric\n",
    "model.compile(loss='sparse_categorical_crossentropy', optimizer='adam', metrics=['accuracy'])\n",
    "\n",
    "# Train the model\n",
    "history = model.fit(X_train, y_train, epochs=20, batch_size=64, validation_data=(X_test, y_test))"
   ],
   "id": "8fc03e0ab6ef22a6",
   "outputs": [
    {
     "name": "stdout",
     "output_type": "stream",
     "text": [
      "Epoch 1/20\n",
      "1969/1969 [==============================] - 2s 1ms/step - loss: 0.0442 - accuracy: 0.9858 - val_loss: 0.9917 - val_accuracy: 0.7844\n",
      "Epoch 2/20\n",
      "1969/1969 [==============================] - 2s 1ms/step - loss: 0.0240 - accuracy: 0.9920 - val_loss: 1.1141 - val_accuracy: 0.7681\n",
      "Epoch 3/20\n",
      "1969/1969 [==============================] - 2s 1ms/step - loss: 0.0200 - accuracy: 0.9933 - val_loss: 1.2304 - val_accuracy: 0.7888\n",
      "Epoch 4/20\n",
      "1969/1969 [==============================] - 2s 1ms/step - loss: 0.0172 - accuracy: 0.9939 - val_loss: 1.3181 - val_accuracy: 0.7899\n",
      "Epoch 5/20\n",
      "1969/1969 [==============================] - 2s 1ms/step - loss: 0.0150 - accuracy: 0.9946 - val_loss: 1.7791 - val_accuracy: 0.7748\n",
      "Epoch 6/20\n",
      "1969/1969 [==============================] - 2s 1ms/step - loss: 0.0136 - accuracy: 0.9951 - val_loss: 1.4773 - val_accuracy: 0.7944\n",
      "Epoch 7/20\n",
      "1969/1969 [==============================] - 2s 975us/step - loss: 0.0122 - accuracy: 0.9957 - val_loss: 1.5320 - val_accuracy: 0.7794\n",
      "Epoch 8/20\n",
      "1969/1969 [==============================] - 2s 973us/step - loss: 0.0121 - accuracy: 0.9957 - val_loss: 1.3582 - val_accuracy: 0.7920\n",
      "Epoch 9/20\n",
      "1969/1969 [==============================] - 2s 952us/step - loss: 0.0119 - accuracy: 0.9959 - val_loss: 1.3491 - val_accuracy: 0.7906\n",
      "Epoch 10/20\n",
      "1969/1969 [==============================] - 2s 1ms/step - loss: 0.0102 - accuracy: 0.9965 - val_loss: 1.7360 - val_accuracy: 0.7721\n",
      "Epoch 11/20\n",
      "1969/1969 [==============================] - 2s 1ms/step - loss: 0.0103 - accuracy: 0.9964 - val_loss: 1.5372 - val_accuracy: 0.7887\n",
      "Epoch 12/20\n",
      "1969/1969 [==============================] - 2s 1ms/step - loss: 0.0099 - accuracy: 0.9965 - val_loss: 1.8512 - val_accuracy: 0.7692\n",
      "Epoch 13/20\n",
      "1969/1969 [==============================] - 2s 968us/step - loss: 0.0087 - accuracy: 0.9969 - val_loss: 1.9161 - val_accuracy: 0.7797\n",
      "Epoch 14/20\n",
      "1969/1969 [==============================] - 2s 982us/step - loss: 0.0088 - accuracy: 0.9967 - val_loss: 1.8169 - val_accuracy: 0.7901\n",
      "Epoch 15/20\n",
      "1969/1969 [==============================] - 2s 950us/step - loss: 0.0099 - accuracy: 0.9964 - val_loss: 1.8497 - val_accuracy: 0.7822\n",
      "Epoch 16/20\n",
      "1969/1969 [==============================] - 2s 977us/step - loss: 0.0091 - accuracy: 0.9967 - val_loss: 2.3389 - val_accuracy: 0.7524\n",
      "Epoch 17/20\n",
      "1969/1969 [==============================] - 2s 948us/step - loss: 0.0092 - accuracy: 0.9970 - val_loss: 2.3293 - val_accuracy: 0.7708\n",
      "Epoch 18/20\n",
      "1969/1969 [==============================] - 2s 973us/step - loss: 0.0085 - accuracy: 0.9971 - val_loss: 2.2606 - val_accuracy: 0.7759\n",
      "Epoch 19/20\n",
      "1969/1969 [==============================] - 2s 961us/step - loss: 0.0073 - accuracy: 0.9972 - val_loss: 2.6048 - val_accuracy: 0.7597\n",
      "Epoch 20/20\n",
      "1969/1969 [==============================] - 2s 947us/step - loss: 0.0085 - accuracy: 0.9970 - val_loss: 2.5803 - val_accuracy: 0.7745\n"
     ]
    }
   ],
   "execution_count": 240
  },
  {
   "metadata": {
    "ExecuteTime": {
     "end_time": "2025-01-12T03:05:36.461453Z",
     "start_time": "2025-01-12T03:05:29.871469Z"
    }
   },
   "cell_type": "code",
   "source": [
    "# Evaluate the model\n",
    "train_loss, train_accuracy = model.evaluate(X_train, y_train, verbose=0)\n",
    "test_loss, test_accuracy = model.evaluate(X_test, y_test, verbose=0)\n",
    "\n",
    "# Calculate F1 scores\n",
    "y_train_pred = np.argmax(model.predict(X_train), axis=1)\n",
    "y_test_pred = np.argmax(model.predict(X_test), axis=1)\n",
    "train_f1score = f1_score(y_train, y_train_pred, average='weighted')\n",
    "test_f1score = f1_score(y_test, y_test_pred, average='weighted')\n",
    "\n",
    "print(f'Accuracy on training set: {train_accuracy:.2f}')\n",
    "print(f'F1 Score on training set: {train_f1score:.2f}')\n",
    "print(f'Accuracy on test set: {test_accuracy:.2f}')\n",
    "print(f'F1 Score on test set: {test_f1score:.2f}')\n",
    "\n",
    "# Plot the loss values\n",
    "plt.plot(history.history['loss'], label='train')\n",
    "plt.plot(history.history['val_loss'], label='test')\n",
    "plt.xlabel('Epoch')\n",
    "plt.ylabel('Loss')\n",
    "plt.title('Training and Validation Loss')\n",
    "plt.legend()\n",
    "plt.show()\n",
    "\n",
    "## SVM\n",
    "\"\"\"\n",
    "    train(41) => train(10): extract imp data\n",
    "    test(41) => AE => test(10)\n",
    "    support vector machine (SVM)\n",
    "    focus MLP + AE =>\n",
    "\"\"\""
   ],
   "id": "6d5b9d78fb81c2cf",
   "outputs": [
    {
     "name": "stdout",
     "output_type": "stream",
     "text": [
      "3937/3937 [==============================] - 2s 578us/step\n",
      "705/705 [==============================] - 0s 589us/step\n",
      "Accuracy on training set: 1.00\n",
      "F1 Score on training set: 1.00\n",
      "Accuracy on test set: 0.77\n",
      "F1 Score on test set: 0.77\n"
     ]
    },
    {
     "data": {
      "text/plain": [
       "<Figure size 640x480 with 1 Axes>"
      ],
      "image/png": "[encoded data removed]"
     },
     "metadata": {},
     "output_type": "display_data"
    }
   ],
   "execution_count": 241
  }
 ],
 "metadata": {
  "kernelspec": {
   "display_name": "Python 3",
   "language": "python",
   "name": "python3"
  },
  "language_info": {
   "codemirror_mode": {
    "name": "ipython",
    "version": 2
   },
   "file_extension": ".py",
   "mimetype": "text/x-python",
   "name": "python",
   "nbconvert_exporter": "python",
   "pygments_lexer": "ipython2",
   "version": "2.7.6"
  }
 },
 "nbformat": 4,
 "nbformat_minor": 5
}
